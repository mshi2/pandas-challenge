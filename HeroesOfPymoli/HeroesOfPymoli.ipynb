{
 "cells": [
  {
   "cell_type": "markdown",
   "metadata": {},
   "source": [
    "### Note\n",
    "* Instructions have been included for each segment. You do not have to follow them exactly, but they are included to help you think through the steps."
   ]
  },
  {
   "cell_type": "code",
   "execution_count": 1,
   "metadata": {
    "scrolled": true
   },
   "outputs": [
    {
     "data": {
      "text/html": [
       "<div>\n",
       "<style scoped>\n",
       "    .dataframe tbody tr th:only-of-type {\n",
       "        vertical-align: middle;\n",
       "    }\n",
       "\n",
       "    .dataframe tbody tr th {\n",
       "        vertical-align: top;\n",
       "    }\n",
       "\n",
       "    .dataframe thead th {\n",
       "        text-align: right;\n",
       "    }\n",
       "</style>\n",
       "<table border=\"1\" class=\"dataframe\">\n",
       "  <thead>\n",
       "    <tr style=\"text-align: right;\">\n",
       "      <th></th>\n",
       "      <th>Purchase ID</th>\n",
       "      <th>SN</th>\n",
       "      <th>Age</th>\n",
       "      <th>Gender</th>\n",
       "      <th>Item ID</th>\n",
       "      <th>Item Name</th>\n",
       "      <th>Price</th>\n",
       "    </tr>\n",
       "  </thead>\n",
       "  <tbody>\n",
       "    <tr>\n",
       "      <th>0</th>\n",
       "      <td>0</td>\n",
       "      <td>Lisim78</td>\n",
       "      <td>20</td>\n",
       "      <td>Male</td>\n",
       "      <td>108</td>\n",
       "      <td>Extraction, Quickblade Of Trembling Hands</td>\n",
       "      <td>3.53</td>\n",
       "    </tr>\n",
       "    <tr>\n",
       "      <th>1</th>\n",
       "      <td>1</td>\n",
       "      <td>Lisovynya38</td>\n",
       "      <td>40</td>\n",
       "      <td>Male</td>\n",
       "      <td>143</td>\n",
       "      <td>Frenzied Scimitar</td>\n",
       "      <td>1.56</td>\n",
       "    </tr>\n",
       "    <tr>\n",
       "      <th>2</th>\n",
       "      <td>2</td>\n",
       "      <td>Ithergue48</td>\n",
       "      <td>24</td>\n",
       "      <td>Male</td>\n",
       "      <td>92</td>\n",
       "      <td>Final Critic</td>\n",
       "      <td>4.88</td>\n",
       "    </tr>\n",
       "    <tr>\n",
       "      <th>3</th>\n",
       "      <td>3</td>\n",
       "      <td>Chamassasya86</td>\n",
       "      <td>24</td>\n",
       "      <td>Male</td>\n",
       "      <td>100</td>\n",
       "      <td>Blindscythe</td>\n",
       "      <td>3.27</td>\n",
       "    </tr>\n",
       "    <tr>\n",
       "      <th>4</th>\n",
       "      <td>4</td>\n",
       "      <td>Iskosia90</td>\n",
       "      <td>23</td>\n",
       "      <td>Male</td>\n",
       "      <td>131</td>\n",
       "      <td>Fury</td>\n",
       "      <td>1.44</td>\n",
       "    </tr>\n",
       "  </tbody>\n",
       "</table>\n",
       "</div>"
      ],
      "text/plain": [
       "   Purchase ID             SN  Age Gender  Item ID  \\\n",
       "0            0        Lisim78   20   Male      108   \n",
       "1            1    Lisovynya38   40   Male      143   \n",
       "2            2     Ithergue48   24   Male       92   \n",
       "3            3  Chamassasya86   24   Male      100   \n",
       "4            4      Iskosia90   23   Male      131   \n",
       "\n",
       "                                   Item Name  Price  \n",
       "0  Extraction, Quickblade Of Trembling Hands   3.53  \n",
       "1                          Frenzied Scimitar   1.56  \n",
       "2                               Final Critic   4.88  \n",
       "3                                Blindscythe   3.27  \n",
       "4                                       Fury   1.44  "
      ]
     },
     "execution_count": 1,
     "metadata": {},
     "output_type": "execute_result"
    }
   ],
   "source": [
    "# Dependencies and Setup\n",
    "import pandas as pd\n",
    "\n",
    "# File to Load (Remember to Change These)\n",
    "pymoli_path = \"Resources/purchase_data.csv\"\n",
    "\n",
    "# Read Purchasing File and store into Pandas data frame\n",
    "pymoli_df = pd.read_csv(pymoli_path)\n",
    "pymoli_df.head()"
   ]
  },
  {
   "cell_type": "markdown",
   "metadata": {},
   "source": [
    "## Player Count"
   ]
  },
  {
   "cell_type": "markdown",
   "metadata": {},
   "source": [
    "* Display the total number of players\n"
   ]
  },
  {
   "cell_type": "code",
   "execution_count": 409,
   "metadata": {},
   "outputs": [
    {
     "data": {
      "text/plain": [
       "576"
      ]
     },
     "execution_count": 409,
     "metadata": {},
     "output_type": "execute_result"
    }
   ],
   "source": [
    "total_player = len(pymoli_df['SN'].unique())\n",
    "total_player"
   ]
  },
  {
   "cell_type": "markdown",
   "metadata": {},
   "source": [
    "## Purchasing Analysis (Total)"
   ]
  },
  {
   "cell_type": "markdown",
   "metadata": {},
   "source": [
    "* Run basic calculations to obtain number of unique items, average price, etc.\n",
    "\n",
    "\n",
    "* Create a summary data frame to hold the results\n",
    "\n",
    "\n",
    "* Optional: give the displayed data cleaner formatting\n",
    "\n",
    "\n",
    "* Display the summary data frame\n"
   ]
  },
  {
   "cell_type": "code",
   "execution_count": 589,
   "metadata": {
    "scrolled": true
   },
   "outputs": [
    {
     "data": {
      "text/html": [
       "<style  type=\"text/css\" >\n",
       "</style><table id=\"T_bb6ac5a7_b5f4_11eb_b364_7c7a911ef3b0\" ><thead>    <tr>        <th class=\"blank level0\" ></th>        <th class=\"col_heading level0 col0\" >Number of Unique Items</th>        <th class=\"col_heading level0 col1\" >Average Price</th>        <th class=\"col_heading level0 col2\" >Number of Purchases</th>        <th class=\"col_heading level0 col3\" >Total Revenue</th>    </tr></thead><tbody>\n",
       "                <tr>\n",
       "                        <th id=\"T_bb6ac5a7_b5f4_11eb_b364_7c7a911ef3b0level0_row0\" class=\"row_heading level0 row0\" >0</th>\n",
       "                        <td id=\"T_bb6ac5a7_b5f4_11eb_b364_7c7a911ef3b0row0_col0\" class=\"data row0 col0\" >179</td>\n",
       "                        <td id=\"T_bb6ac5a7_b5f4_11eb_b364_7c7a911ef3b0row0_col1\" class=\"data row0 col1\" >$3.05</td>\n",
       "                        <td id=\"T_bb6ac5a7_b5f4_11eb_b364_7c7a911ef3b0row0_col2\" class=\"data row0 col2\" >780</td>\n",
       "                        <td id=\"T_bb6ac5a7_b5f4_11eb_b364_7c7a911ef3b0row0_col3\" class=\"data row0 col3\" >$2,379.77</td>\n",
       "            </tr>\n",
       "    </tbody></table>"
      ],
      "text/plain": [
       "<pandas.io.formats.style.Styler at 0xbd0646a220>"
      ]
     },
     "execution_count": 589,
     "metadata": {},
     "output_type": "execute_result"
    }
   ],
   "source": [
    "#create data frame with summary data\n",
    "summary_df = pd.DataFrame(\n",
    "    {\n",
    "    'Number of Unique Items' : len(pymoli_df['Item ID'].unique()),\n",
    "    'Average Price' : round(pymoli_df['Price'].mean(),2),\n",
    "    'Number of Purchases': len(pymoli_df['Purchase ID'].value_counts()),\n",
    "    'Total Revenue' : pymoli_df['Price'].sum()\n",
    "    },\n",
    "    index=[0]\n",
    ")\n",
    "\n",
    "summary_df.head()\n",
    "#format summary values\n",
    "summary_df.style.format({'Average Price':\"${:,.2f}\", 'Total Revenue':\"${:,.2f}\"})\n"
   ]
  },
  {
   "cell_type": "markdown",
   "metadata": {},
   "source": [
    "## Gender Demographics"
   ]
  },
  {
   "cell_type": "markdown",
   "metadata": {},
   "source": [
    "* Percentage and Count of Male Players\n",
    "\n",
    "\n",
    "* Percentage and Count of Female Players\n",
    "\n",
    "\n",
    "* Percentage and Count of Other / Non-Disclosed\n",
    "\n",
    "\n"
   ]
  },
  {
   "cell_type": "code",
   "execution_count": 596,
   "metadata": {},
   "outputs": [
    {
     "data": {
      "text/html": [
       "<style  type=\"text/css\" >\n",
       "</style><table id=\"T_17231e0e_b5f6_11eb_bc92_7c7a911ef3b0\" ><thead>    <tr>        <th class=\"blank level0\" ></th>        <th class=\"col_heading level0 col0\" >Total count</th>        <th class=\"col_heading level0 col1\" >Percentage of Players</th>    </tr></thead><tbody>\n",
       "                <tr>\n",
       "                        <th id=\"T_17231e0e_b5f6_11eb_bc92_7c7a911ef3b0level0_row0\" class=\"row_heading level0 row0\" >Male</th>\n",
       "                        <td id=\"T_17231e0e_b5f6_11eb_bc92_7c7a911ef3b0row0_col0\" class=\"data row0 col0\" >484</td>\n",
       "                        <td id=\"T_17231e0e_b5f6_11eb_bc92_7c7a911ef3b0row0_col1\" class=\"data row0 col1\" >83.59%</td>\n",
       "            </tr>\n",
       "            <tr>\n",
       "                        <th id=\"T_17231e0e_b5f6_11eb_bc92_7c7a911ef3b0level0_row1\" class=\"row_heading level0 row1\" >Female</th>\n",
       "                        <td id=\"T_17231e0e_b5f6_11eb_bc92_7c7a911ef3b0row1_col0\" class=\"data row1 col0\" >81</td>\n",
       "                        <td id=\"T_17231e0e_b5f6_11eb_bc92_7c7a911ef3b0row1_col1\" class=\"data row1 col1\" >14.49%</td>\n",
       "            </tr>\n",
       "            <tr>\n",
       "                        <th id=\"T_17231e0e_b5f6_11eb_bc92_7c7a911ef3b0level0_row2\" class=\"row_heading level0 row2\" >Other / Non-Disclosed</th>\n",
       "                        <td id=\"T_17231e0e_b5f6_11eb_bc92_7c7a911ef3b0row2_col0\" class=\"data row2 col0\" >11</td>\n",
       "                        <td id=\"T_17231e0e_b5f6_11eb_bc92_7c7a911ef3b0row2_col1\" class=\"data row2 col1\" >1.92%</td>\n",
       "            </tr>\n",
       "    </tbody></table>"
      ],
      "text/plain": [
       "<pandas.io.formats.style.Styler at 0xbd064f72e0>"
      ]
     },
     "execution_count": 596,
     "metadata": {},
     "output_type": "execute_result"
    }
   ],
   "source": [
    "#drop duplicate users\n",
    "pymoli_drop_df = pymoli_df.drop_duplicates(subset=['SN'])\n",
    "\n",
    "#create data frame for count and percentage by gender\n",
    "gender_df = pd.DataFrame (\n",
    "    {\n",
    "        'Total count':pymoli_drop_df['Gender'].value_counts(),\n",
    "        'Percentage of Players': pymoli_df['Gender'].value_counts(normalize=True)* 100\n",
    "    }\n",
    ")\n",
    "#print gender dataframe with formatting\n",
    "gender_df.style.format({'Percentage of Players':\"{:,.2f}%\" })"
   ]
  },
  {
   "cell_type": "markdown",
   "metadata": {},
   "source": [
    "\n",
    "## Purchasing Analysis (Gender)"
   ]
  },
  {
   "cell_type": "markdown",
   "metadata": {},
   "source": [
    "* Run basic calculations to obtain purchase count, avg. purchase price, avg. purchase total per person etc. by gender\n",
    "\n",
    "\n",
    "\n",
    "\n",
    "* Create a summary data frame to hold the results\n",
    "\n",
    "\n",
    "* Optional: give the displayed data cleaner formatting\n",
    "\n",
    "\n",
    "* Display the summary data frame"
   ]
  },
  {
   "cell_type": "code",
   "execution_count": 614,
   "metadata": {
    "scrolled": true
   },
   "outputs": [
    {
     "data": {
      "text/html": [
       "<style  type=\"text/css\" >\n",
       "</style><table id=\"T_cdb9dab1_b5f9_11eb_b3d0_7c7a911ef3b0\" ><thead>    <tr>        <th class=\"blank level0\" ></th>        <th class=\"col_heading level0 col0\" >Purchase Count</th>        <th class=\"col_heading level0 col1\" >Average Purchase Price</th>        <th class=\"col_heading level0 col2\" >Total Purchase Value</th>        <th class=\"col_heading level0 col3\" >Avg Total Purchase per Person</th>    </tr>    <tr>        <th class=\"index_name level0\" >Gender</th>        <th class=\"blank\" ></th>        <th class=\"blank\" ></th>        <th class=\"blank\" ></th>        <th class=\"blank\" ></th>    </tr></thead><tbody>\n",
       "                <tr>\n",
       "                        <th id=\"T_cdb9dab1_b5f9_11eb_b3d0_7c7a911ef3b0level0_row0\" class=\"row_heading level0 row0\" >Female</th>\n",
       "                        <td id=\"T_cdb9dab1_b5f9_11eb_b3d0_7c7a911ef3b0row0_col0\" class=\"data row0 col0\" >113</td>\n",
       "                        <td id=\"T_cdb9dab1_b5f9_11eb_b3d0_7c7a911ef3b0row0_col1\" class=\"data row0 col1\" >$3.20</td>\n",
       "                        <td id=\"T_cdb9dab1_b5f9_11eb_b3d0_7c7a911ef3b0row0_col2\" class=\"data row0 col2\" >$361.94</td>\n",
       "                        <td id=\"T_cdb9dab1_b5f9_11eb_b3d0_7c7a911ef3b0row0_col3\" class=\"data row0 col3\" >$4.47</td>\n",
       "            </tr>\n",
       "            <tr>\n",
       "                        <th id=\"T_cdb9dab1_b5f9_11eb_b3d0_7c7a911ef3b0level0_row1\" class=\"row_heading level0 row1\" >Male</th>\n",
       "                        <td id=\"T_cdb9dab1_b5f9_11eb_b3d0_7c7a911ef3b0row1_col0\" class=\"data row1 col0\" >652</td>\n",
       "                        <td id=\"T_cdb9dab1_b5f9_11eb_b3d0_7c7a911ef3b0row1_col1\" class=\"data row1 col1\" >$3.02</td>\n",
       "                        <td id=\"T_cdb9dab1_b5f9_11eb_b3d0_7c7a911ef3b0row1_col2\" class=\"data row1 col2\" >$1,967.64</td>\n",
       "                        <td id=\"T_cdb9dab1_b5f9_11eb_b3d0_7c7a911ef3b0row1_col3\" class=\"data row1 col3\" >$4.07</td>\n",
       "            </tr>\n",
       "            <tr>\n",
       "                        <th id=\"T_cdb9dab1_b5f9_11eb_b3d0_7c7a911ef3b0level0_row2\" class=\"row_heading level0 row2\" >Other / Non-Disclosed</th>\n",
       "                        <td id=\"T_cdb9dab1_b5f9_11eb_b3d0_7c7a911ef3b0row2_col0\" class=\"data row2 col0\" >15</td>\n",
       "                        <td id=\"T_cdb9dab1_b5f9_11eb_b3d0_7c7a911ef3b0row2_col1\" class=\"data row2 col1\" >$3.35</td>\n",
       "                        <td id=\"T_cdb9dab1_b5f9_11eb_b3d0_7c7a911ef3b0row2_col2\" class=\"data row2 col2\" >$50.19</td>\n",
       "                        <td id=\"T_cdb9dab1_b5f9_11eb_b3d0_7c7a911ef3b0row2_col3\" class=\"data row2 col3\" >$4.56</td>\n",
       "            </tr>\n",
       "    </tbody></table>"
      ],
      "text/plain": [
       "<pandas.io.formats.style.Styler at 0xbd07c11fd0>"
      ]
     },
     "execution_count": 614,
     "metadata": {},
     "output_type": "execute_result"
    }
   ],
   "source": [
    "#group dataframe by gender\n",
    "grouped_gender_df = pymoli_df.groupby('Gender')\n",
    "\n",
    "#build Summary dataframe based on gender\n",
    "summary_purchase_df = pd.DataFrame (\n",
    "        {\n",
    "            \"Purchase Count\" : grouped_gender_df['Purchase ID'].count(),\n",
    "            \"Average Purchase Price\" : grouped_gender_df['Price'].mean(),\n",
    "            \"Total Purchase Value\" : grouped_gender_df['Price'].sum(),\n",
    "            \"Avg Total Purchase per Person\" : (grouped_gender_df['Price'].sum()) / (pymoli_drop_df['Gender'].value_counts())\n",
    "\n",
    "        }\n",
    "        \n",
    ")\n",
    "#print summary dataframe with style formatting\n",
    "summary_purchase_df.style.format({'Average Purchase Price':\"${:,.2f}\", 'Total Purchase Value':\"${:,.2f}\", 'Avg Total Purchase per Person':\"${:,.2f}\"})"
   ]
  },
  {
   "cell_type": "markdown",
   "metadata": {},
   "source": [
    "## Age Demographics"
   ]
  },
  {
   "cell_type": "markdown",
   "metadata": {},
   "source": [
    "* Establish bins for ages\n",
    "\n",
    "\n",
    "* Categorize the existing players using the age bins. Hint: use pd.cut()\n",
    "\n",
    "\n",
    "* Calculate the numbers and percentages by age group\n",
    "\n",
    "\n",
    "* Create a summary data frame to hold the results\n",
    "\n",
    "\n",
    "* Optional: round the percentage column to two decimal points\n",
    "\n",
    "\n",
    "* Display Age Demographics Table\n"
   ]
  },
  {
   "cell_type": "code",
   "execution_count": 597,
   "metadata": {
    "scrolled": true
   },
   "outputs": [
    {
     "data": {
      "text/html": [
       "<style  type=\"text/css\" >\n",
       "</style><table id=\"T_4849a97c_b5f6_11eb_9d9c_7c7a911ef3b0\" ><thead>    <tr>        <th class=\"blank level0\" ></th>        <th class=\"col_heading level0 col0\" >Total Count</th>        <th class=\"col_heading level0 col1\" >Percentage of Players</th>    </tr>    <tr>        <th class=\"index_name level0\" >Age Range</th>        <th class=\"blank\" ></th>        <th class=\"blank\" ></th>    </tr></thead><tbody>\n",
       "                <tr>\n",
       "                        <th id=\"T_4849a97c_b5f6_11eb_9d9c_7c7a911ef3b0level0_row0\" class=\"row_heading level0 row0\" ><10</th>\n",
       "                        <td id=\"T_4849a97c_b5f6_11eb_9d9c_7c7a911ef3b0row0_col0\" class=\"data row0 col0\" >17</td>\n",
       "                        <td id=\"T_4849a97c_b5f6_11eb_9d9c_7c7a911ef3b0row0_col1\" class=\"data row0 col1\" >2.95%</td>\n",
       "            </tr>\n",
       "            <tr>\n",
       "                        <th id=\"T_4849a97c_b5f6_11eb_9d9c_7c7a911ef3b0level0_row1\" class=\"row_heading level0 row1\" >10-14</th>\n",
       "                        <td id=\"T_4849a97c_b5f6_11eb_9d9c_7c7a911ef3b0row1_col0\" class=\"data row1 col0\" >22</td>\n",
       "                        <td id=\"T_4849a97c_b5f6_11eb_9d9c_7c7a911ef3b0row1_col1\" class=\"data row1 col1\" >3.82%</td>\n",
       "            </tr>\n",
       "            <tr>\n",
       "                        <th id=\"T_4849a97c_b5f6_11eb_9d9c_7c7a911ef3b0level0_row2\" class=\"row_heading level0 row2\" >15-19</th>\n",
       "                        <td id=\"T_4849a97c_b5f6_11eb_9d9c_7c7a911ef3b0row2_col0\" class=\"data row2 col0\" >107</td>\n",
       "                        <td id=\"T_4849a97c_b5f6_11eb_9d9c_7c7a911ef3b0row2_col1\" class=\"data row2 col1\" >18.58%</td>\n",
       "            </tr>\n",
       "            <tr>\n",
       "                        <th id=\"T_4849a97c_b5f6_11eb_9d9c_7c7a911ef3b0level0_row3\" class=\"row_heading level0 row3\" >20-24</th>\n",
       "                        <td id=\"T_4849a97c_b5f6_11eb_9d9c_7c7a911ef3b0row3_col0\" class=\"data row3 col0\" >258</td>\n",
       "                        <td id=\"T_4849a97c_b5f6_11eb_9d9c_7c7a911ef3b0row3_col1\" class=\"data row3 col1\" >44.79%</td>\n",
       "            </tr>\n",
       "            <tr>\n",
       "                        <th id=\"T_4849a97c_b5f6_11eb_9d9c_7c7a911ef3b0level0_row4\" class=\"row_heading level0 row4\" >25-29</th>\n",
       "                        <td id=\"T_4849a97c_b5f6_11eb_9d9c_7c7a911ef3b0row4_col0\" class=\"data row4 col0\" >77</td>\n",
       "                        <td id=\"T_4849a97c_b5f6_11eb_9d9c_7c7a911ef3b0row4_col1\" class=\"data row4 col1\" >13.37%</td>\n",
       "            </tr>\n",
       "            <tr>\n",
       "                        <th id=\"T_4849a97c_b5f6_11eb_9d9c_7c7a911ef3b0level0_row5\" class=\"row_heading level0 row5\" >30-34</th>\n",
       "                        <td id=\"T_4849a97c_b5f6_11eb_9d9c_7c7a911ef3b0row5_col0\" class=\"data row5 col0\" >52</td>\n",
       "                        <td id=\"T_4849a97c_b5f6_11eb_9d9c_7c7a911ef3b0row5_col1\" class=\"data row5 col1\" >9.03%</td>\n",
       "            </tr>\n",
       "            <tr>\n",
       "                        <th id=\"T_4849a97c_b5f6_11eb_9d9c_7c7a911ef3b0level0_row6\" class=\"row_heading level0 row6\" >35-39</th>\n",
       "                        <td id=\"T_4849a97c_b5f6_11eb_9d9c_7c7a911ef3b0row6_col0\" class=\"data row6 col0\" >31</td>\n",
       "                        <td id=\"T_4849a97c_b5f6_11eb_9d9c_7c7a911ef3b0row6_col1\" class=\"data row6 col1\" >5.38%</td>\n",
       "            </tr>\n",
       "            <tr>\n",
       "                        <th id=\"T_4849a97c_b5f6_11eb_9d9c_7c7a911ef3b0level0_row7\" class=\"row_heading level0 row7\" >>40</th>\n",
       "                        <td id=\"T_4849a97c_b5f6_11eb_9d9c_7c7a911ef3b0row7_col0\" class=\"data row7 col0\" >12</td>\n",
       "                        <td id=\"T_4849a97c_b5f6_11eb_9d9c_7c7a911ef3b0row7_col1\" class=\"data row7 col1\" >2.08%</td>\n",
       "            </tr>\n",
       "    </tbody></table>"
      ],
      "text/plain": [
       "<pandas.io.formats.style.Styler at 0xbd064b0d60>"
      ]
     },
     "execution_count": 597,
     "metadata": {},
     "output_type": "execute_result"
    }
   ],
   "source": [
    "#Define bins and labels\n",
    "range = [0, 9.9, 14.9, 19.9, 24.9, 29.9, 34.9, 39.9, 100]\n",
    "labels = ['<10','10-14', '15-19', '20-24', '25-29', '30-34', '35-39', '>40']\n",
    "pymoli_df['Age Range'] = pd.cut(pymoli_df['Age'], range, labels=labels)\n",
    "age_group = pymoli_df.groupby('Age Range').nunique()\n",
    "percent_players = (age_group/total_player)*100\n",
    "#create age demographic dataframe\n",
    "age_demo = pd.DataFrame(\n",
    "    {\n",
    "        'Total Count': age_group['SN'],\n",
    "        'Percentage of Players': percent_players['SN']\n",
    "    }\n",
    "    \n",
    ")\n",
    "#print age demographics dataframe with style formatting\n",
    "age_demo.style.format({'Percentage of Players':\"{:,.2f}%\" })\n",
    "\n"
   ]
  },
  {
   "cell_type": "markdown",
   "metadata": {},
   "source": [
    "## Purchasing Analysis (Age)"
   ]
  },
  {
   "cell_type": "markdown",
   "metadata": {},
   "source": [
    "* Bin the purchase_data data frame by age\n",
    "\n",
    "\n",
    "* Run basic calculations to obtain purchase count, avg. purchase price, avg. purchase total per person etc. in the table below\n",
    "\n",
    "\n",
    "* Create a summary data frame to hold the results\n",
    "\n",
    "\n",
    "* Optional: give the displayed data cleaner formatting\n",
    "\n",
    "\n",
    "* Display the summary data frame"
   ]
  },
  {
   "cell_type": "code",
   "execution_count": 598,
   "metadata": {},
   "outputs": [
    {
     "data": {
      "text/html": [
       "<style  type=\"text/css\" >\n",
       "</style><table id=\"T_8e545703_b5f6_11eb_a01f_7c7a911ef3b0\" ><thead>    <tr>        <th class=\"blank level0\" ></th>        <th class=\"col_heading level0 col0\" >Purchase Count</th>        <th class=\"col_heading level0 col1\" >Average Purchase Price</th>        <th class=\"col_heading level0 col2\" >Total Purchase Value</th>        <th class=\"col_heading level0 col3\" >Avg Total Purchase per Person</th>    </tr>    <tr>        <th class=\"index_name level0\" >Age Range</th>        <th class=\"blank\" ></th>        <th class=\"blank\" ></th>        <th class=\"blank\" ></th>        <th class=\"blank\" ></th>    </tr></thead><tbody>\n",
       "                <tr>\n",
       "                        <th id=\"T_8e545703_b5f6_11eb_a01f_7c7a911ef3b0level0_row0\" class=\"row_heading level0 row0\" ><10</th>\n",
       "                        <td id=\"T_8e545703_b5f6_11eb_a01f_7c7a911ef3b0row0_col0\" class=\"data row0 col0\" >23</td>\n",
       "                        <td id=\"T_8e545703_b5f6_11eb_a01f_7c7a911ef3b0row0_col1\" class=\"data row0 col1\" >$3.35</td>\n",
       "                        <td id=\"T_8e545703_b5f6_11eb_a01f_7c7a911ef3b0row0_col2\" class=\"data row0 col2\" >$77.13</td>\n",
       "                        <td id=\"T_8e545703_b5f6_11eb_a01f_7c7a911ef3b0row0_col3\" class=\"data row0 col3\" >$4.54</td>\n",
       "            </tr>\n",
       "            <tr>\n",
       "                        <th id=\"T_8e545703_b5f6_11eb_a01f_7c7a911ef3b0level0_row1\" class=\"row_heading level0 row1\" >10-14</th>\n",
       "                        <td id=\"T_8e545703_b5f6_11eb_a01f_7c7a911ef3b0row1_col0\" class=\"data row1 col0\" >28</td>\n",
       "                        <td id=\"T_8e545703_b5f6_11eb_a01f_7c7a911ef3b0row1_col1\" class=\"data row1 col1\" >$2.96</td>\n",
       "                        <td id=\"T_8e545703_b5f6_11eb_a01f_7c7a911ef3b0row1_col2\" class=\"data row1 col2\" >$82.78</td>\n",
       "                        <td id=\"T_8e545703_b5f6_11eb_a01f_7c7a911ef3b0row1_col3\" class=\"data row1 col3\" >$3.76</td>\n",
       "            </tr>\n",
       "            <tr>\n",
       "                        <th id=\"T_8e545703_b5f6_11eb_a01f_7c7a911ef3b0level0_row2\" class=\"row_heading level0 row2\" >15-19</th>\n",
       "                        <td id=\"T_8e545703_b5f6_11eb_a01f_7c7a911ef3b0row2_col0\" class=\"data row2 col0\" >136</td>\n",
       "                        <td id=\"T_8e545703_b5f6_11eb_a01f_7c7a911ef3b0row2_col1\" class=\"data row2 col1\" >$3.04</td>\n",
       "                        <td id=\"T_8e545703_b5f6_11eb_a01f_7c7a911ef3b0row2_col2\" class=\"data row2 col2\" >$412.89</td>\n",
       "                        <td id=\"T_8e545703_b5f6_11eb_a01f_7c7a911ef3b0row2_col3\" class=\"data row2 col3\" >$3.86</td>\n",
       "            </tr>\n",
       "            <tr>\n",
       "                        <th id=\"T_8e545703_b5f6_11eb_a01f_7c7a911ef3b0level0_row3\" class=\"row_heading level0 row3\" >20-24</th>\n",
       "                        <td id=\"T_8e545703_b5f6_11eb_a01f_7c7a911ef3b0row3_col0\" class=\"data row3 col0\" >365</td>\n",
       "                        <td id=\"T_8e545703_b5f6_11eb_a01f_7c7a911ef3b0row3_col1\" class=\"data row3 col1\" >$3.05</td>\n",
       "                        <td id=\"T_8e545703_b5f6_11eb_a01f_7c7a911ef3b0row3_col2\" class=\"data row3 col2\" >$1,114.06</td>\n",
       "                        <td id=\"T_8e545703_b5f6_11eb_a01f_7c7a911ef3b0row3_col3\" class=\"data row3 col3\" >$4.32</td>\n",
       "            </tr>\n",
       "            <tr>\n",
       "                        <th id=\"T_8e545703_b5f6_11eb_a01f_7c7a911ef3b0level0_row4\" class=\"row_heading level0 row4\" >25-29</th>\n",
       "                        <td id=\"T_8e545703_b5f6_11eb_a01f_7c7a911ef3b0row4_col0\" class=\"data row4 col0\" >101</td>\n",
       "                        <td id=\"T_8e545703_b5f6_11eb_a01f_7c7a911ef3b0row4_col1\" class=\"data row4 col1\" >$2.90</td>\n",
       "                        <td id=\"T_8e545703_b5f6_11eb_a01f_7c7a911ef3b0row4_col2\" class=\"data row4 col2\" >$293.00</td>\n",
       "                        <td id=\"T_8e545703_b5f6_11eb_a01f_7c7a911ef3b0row4_col3\" class=\"data row4 col3\" >$3.81</td>\n",
       "            </tr>\n",
       "            <tr>\n",
       "                        <th id=\"T_8e545703_b5f6_11eb_a01f_7c7a911ef3b0level0_row5\" class=\"row_heading level0 row5\" >30-34</th>\n",
       "                        <td id=\"T_8e545703_b5f6_11eb_a01f_7c7a911ef3b0row5_col0\" class=\"data row5 col0\" >73</td>\n",
       "                        <td id=\"T_8e545703_b5f6_11eb_a01f_7c7a911ef3b0row5_col1\" class=\"data row5 col1\" >$2.93</td>\n",
       "                        <td id=\"T_8e545703_b5f6_11eb_a01f_7c7a911ef3b0row5_col2\" class=\"data row5 col2\" >$214.00</td>\n",
       "                        <td id=\"T_8e545703_b5f6_11eb_a01f_7c7a911ef3b0row5_col3\" class=\"data row5 col3\" >$4.12</td>\n",
       "            </tr>\n",
       "            <tr>\n",
       "                        <th id=\"T_8e545703_b5f6_11eb_a01f_7c7a911ef3b0level0_row6\" class=\"row_heading level0 row6\" >35-39</th>\n",
       "                        <td id=\"T_8e545703_b5f6_11eb_a01f_7c7a911ef3b0row6_col0\" class=\"data row6 col0\" >41</td>\n",
       "                        <td id=\"T_8e545703_b5f6_11eb_a01f_7c7a911ef3b0row6_col1\" class=\"data row6 col1\" >$3.60</td>\n",
       "                        <td id=\"T_8e545703_b5f6_11eb_a01f_7c7a911ef3b0row6_col2\" class=\"data row6 col2\" >$147.67</td>\n",
       "                        <td id=\"T_8e545703_b5f6_11eb_a01f_7c7a911ef3b0row6_col3\" class=\"data row6 col3\" >$4.76</td>\n",
       "            </tr>\n",
       "            <tr>\n",
       "                        <th id=\"T_8e545703_b5f6_11eb_a01f_7c7a911ef3b0level0_row7\" class=\"row_heading level0 row7\" >>40</th>\n",
       "                        <td id=\"T_8e545703_b5f6_11eb_a01f_7c7a911ef3b0row7_col0\" class=\"data row7 col0\" >13</td>\n",
       "                        <td id=\"T_8e545703_b5f6_11eb_a01f_7c7a911ef3b0row7_col1\" class=\"data row7 col1\" >$2.94</td>\n",
       "                        <td id=\"T_8e545703_b5f6_11eb_a01f_7c7a911ef3b0row7_col2\" class=\"data row7 col2\" >$38.24</td>\n",
       "                        <td id=\"T_8e545703_b5f6_11eb_a01f_7c7a911ef3b0row7_col3\" class=\"data row7 col3\" >$3.19</td>\n",
       "            </tr>\n",
       "    </tbody></table>"
      ],
      "text/plain": [
       "<pandas.io.formats.style.Styler at 0xbd0657bd00>"
      ]
     },
     "execution_count": 598,
     "metadata": {},
     "output_type": "execute_result"
    }
   ],
   "source": [
    "#define series for data frame\n",
    "age_count = pymoli_df.groupby('Age Range')['Price'].count()\n",
    "price_mean = pymoli_df.groupby('Age Range')['Price'].mean()\n",
    "total_value = pymoli_df.groupby('Age Range')['Price'].sum()\n",
    "purchase_avg = total_value / age_group['SN']\n",
    "#build dataframe for spending based on age\n",
    "age_purchase = pd.DataFrame(\n",
    "        {\n",
    "            'Purchase Count' : age_count,\n",
    "            'Average Purchase Price' : price_mean,\n",
    "            'Total Purchase Value' : total_value,\n",
    "            'Avg Total Purchase per Person' : purchase_avg\n",
    "        }\n",
    "                \n",
    ")\n",
    "#print dataframe with style formatting\n",
    "age_purchase.style.format({'Average Purchase Price':\"${:,.2f}\", 'Total Purchase Value':\"${:,.2f}\", 'Avg Total Purchase per Person':\"${:,.2f}\"})\n"
   ]
  },
  {
   "cell_type": "markdown",
   "metadata": {},
   "source": [
    "## Top Spenders"
   ]
  },
  {
   "cell_type": "markdown",
   "metadata": {},
   "source": [
    "* Run basic calculations to obtain the results in the table below\n",
    "\n",
    "\n",
    "* Create a summary data frame to hold the results\n",
    "\n",
    "\n",
    "* Sort the total purchase value column in descending order\n",
    "\n",
    "\n",
    "* Optional: give the displayed data cleaner formatting\n",
    "\n",
    "\n",
    "* Display a preview of the summary data frame\n",
    "\n"
   ]
  },
  {
   "cell_type": "code",
   "execution_count": 604,
   "metadata": {},
   "outputs": [
    {
     "data": {
      "text/html": [
       "<style  type=\"text/css\" >\n",
       "</style><table id=\"T_7f6a75c9_b5f7_11eb_a0ae_7c7a911ef3b0\" ><thead>    <tr>        <th class=\"blank level0\" ></th>        <th class=\"col_heading level0 col0\" >Purchase Count</th>        <th class=\"col_heading level0 col1\" >Average Purchase Price</th>        <th class=\"col_heading level0 col2\" >Total Purchase Value</th>    </tr>    <tr>        <th class=\"index_name level0\" >SN</th>        <th class=\"blank\" ></th>        <th class=\"blank\" ></th>        <th class=\"blank\" ></th>    </tr></thead><tbody>\n",
       "                <tr>\n",
       "                        <th id=\"T_7f6a75c9_b5f7_11eb_a0ae_7c7a911ef3b0level0_row0\" class=\"row_heading level0 row0\" >Lisosia93</th>\n",
       "                        <td id=\"T_7f6a75c9_b5f7_11eb_a0ae_7c7a911ef3b0row0_col0\" class=\"data row0 col0\" >5</td>\n",
       "                        <td id=\"T_7f6a75c9_b5f7_11eb_a0ae_7c7a911ef3b0row0_col1\" class=\"data row0 col1\" >$3.79</td>\n",
       "                        <td id=\"T_7f6a75c9_b5f7_11eb_a0ae_7c7a911ef3b0row0_col2\" class=\"data row0 col2\" >$18.96</td>\n",
       "            </tr>\n",
       "            <tr>\n",
       "                        <th id=\"T_7f6a75c9_b5f7_11eb_a0ae_7c7a911ef3b0level0_row1\" class=\"row_heading level0 row1\" >Iral74</th>\n",
       "                        <td id=\"T_7f6a75c9_b5f7_11eb_a0ae_7c7a911ef3b0row1_col0\" class=\"data row1 col0\" >4</td>\n",
       "                        <td id=\"T_7f6a75c9_b5f7_11eb_a0ae_7c7a911ef3b0row1_col1\" class=\"data row1 col1\" >$3.40</td>\n",
       "                        <td id=\"T_7f6a75c9_b5f7_11eb_a0ae_7c7a911ef3b0row1_col2\" class=\"data row1 col2\" >$13.62</td>\n",
       "            </tr>\n",
       "            <tr>\n",
       "                        <th id=\"T_7f6a75c9_b5f7_11eb_a0ae_7c7a911ef3b0level0_row2\" class=\"row_heading level0 row2\" >Idastidru52</th>\n",
       "                        <td id=\"T_7f6a75c9_b5f7_11eb_a0ae_7c7a911ef3b0row2_col0\" class=\"data row2 col0\" >4</td>\n",
       "                        <td id=\"T_7f6a75c9_b5f7_11eb_a0ae_7c7a911ef3b0row2_col1\" class=\"data row2 col1\" >$3.86</td>\n",
       "                        <td id=\"T_7f6a75c9_b5f7_11eb_a0ae_7c7a911ef3b0row2_col2\" class=\"data row2 col2\" >$15.45</td>\n",
       "            </tr>\n",
       "            <tr>\n",
       "                        <th id=\"T_7f6a75c9_b5f7_11eb_a0ae_7c7a911ef3b0level0_row3\" class=\"row_heading level0 row3\" >Asur53</th>\n",
       "                        <td id=\"T_7f6a75c9_b5f7_11eb_a0ae_7c7a911ef3b0row3_col0\" class=\"data row3 col0\" >3</td>\n",
       "                        <td id=\"T_7f6a75c9_b5f7_11eb_a0ae_7c7a911ef3b0row3_col1\" class=\"data row3 col1\" >$2.48</td>\n",
       "                        <td id=\"T_7f6a75c9_b5f7_11eb_a0ae_7c7a911ef3b0row3_col2\" class=\"data row3 col2\" >$7.44</td>\n",
       "            </tr>\n",
       "            <tr>\n",
       "                        <th id=\"T_7f6a75c9_b5f7_11eb_a0ae_7c7a911ef3b0level0_row4\" class=\"row_heading level0 row4\" >Inguron55</th>\n",
       "                        <td id=\"T_7f6a75c9_b5f7_11eb_a0ae_7c7a911ef3b0row4_col0\" class=\"data row4 col0\" >3</td>\n",
       "                        <td id=\"T_7f6a75c9_b5f7_11eb_a0ae_7c7a911ef3b0row4_col1\" class=\"data row4 col1\" >$3.70</td>\n",
       "                        <td id=\"T_7f6a75c9_b5f7_11eb_a0ae_7c7a911ef3b0row4_col2\" class=\"data row4 col2\" >$11.11</td>\n",
       "            </tr>\n",
       "    </tbody></table>"
      ],
      "text/plain": [
       "<pandas.io.formats.style.Styler at 0xbd06a5a4c0>"
      ]
     },
     "execution_count": 604,
     "metadata": {},
     "output_type": "execute_result"
    }
   ],
   "source": [
    "#define series for data frame\n",
    "group_players = pymoli_df.groupby('SN')\n",
    "purchase_spender = group_players['Purchase ID'].count()\n",
    "price_avg = group_players['Price'].mean()\n",
    "total_purchase = purchase_spender * price_avg\n",
    "#Build dataframe for top spender\n",
    "spenders_df = pd.DataFrame(\n",
    "        {\n",
    "            'Purchase Count' : purchase_spender,\n",
    "            'Average Purchase Price' : price_avg,\n",
    "            'Total Purchase Value' : total_purchase              \n",
    "        }\n",
    "                \n",
    ")\n",
    "#print sorted dataframe for top spender with style formatting\n",
    "spenders_df.sort_values(by='Purchase Count', ascending=False).head().style.format({'Average Purchase Price':\"${:,.2f}\", 'Total Purchase Value':\"${:,.2f}\"})\n"
   ]
  },
  {
   "cell_type": "markdown",
   "metadata": {},
   "source": [
    "## Most Popular Items"
   ]
  },
  {
   "cell_type": "markdown",
   "metadata": {},
   "source": [
    "* Retrieve the Item ID, Item Name, and Item Price columns\n",
    "\n",
    "\n",
    "* Group by Item ID and Item Name. Perform calculations to obtain purchase count, average item price, and total purchase value\n",
    "\n",
    "\n",
    "* Create a summary data frame to hold the results\n",
    "\n",
    "\n",
    "* Sort the purchase count column in descending order\n",
    "\n",
    "\n",
    "* Optional: give the displayed data cleaner formatting\n",
    "\n",
    "\n",
    "* Display a preview of the summary data frame\n",
    "\n"
   ]
  },
  {
   "cell_type": "code",
   "execution_count": 612,
   "metadata": {},
   "outputs": [
    {
     "data": {
      "text/html": [
       "<style  type=\"text/css\" >\n",
       "</style><table id=\"T_4ccb97d6_b5f8_11eb_a335_7c7a911ef3b0\" ><thead>    <tr>        <th class=\"blank\" ></th>        <th class=\"blank level0\" ></th>        <th class=\"col_heading level0 col0\" >Purchase Count</th>        <th class=\"col_heading level0 col1\" >Item Price</th>        <th class=\"col_heading level0 col2\" >Total Purchase Value</th>    </tr>    <tr>        <th class=\"index_name level0\" >Item ID</th>        <th class=\"index_name level1\" >Item Name</th>        <th class=\"blank\" ></th>        <th class=\"blank\" ></th>        <th class=\"blank\" ></th>    </tr></thead><tbody>\n",
       "                <tr>\n",
       "                        <th id=\"T_4ccb97d6_b5f8_11eb_a335_7c7a911ef3b0level0_row0\" class=\"row_heading level0 row0\" >92</th>\n",
       "                        <th id=\"T_4ccb97d6_b5f8_11eb_a335_7c7a911ef3b0level1_row0\" class=\"row_heading level1 row0\" >Final Critic</th>\n",
       "                        <td id=\"T_4ccb97d6_b5f8_11eb_a335_7c7a911ef3b0row0_col0\" class=\"data row0 col0\" >13</td>\n",
       "                        <td id=\"T_4ccb97d6_b5f8_11eb_a335_7c7a911ef3b0row0_col1\" class=\"data row0 col1\" >$4.61</td>\n",
       "                        <td id=\"T_4ccb97d6_b5f8_11eb_a335_7c7a911ef3b0row0_col2\" class=\"data row0 col2\" >$59.99</td>\n",
       "            </tr>\n",
       "            <tr>\n",
       "                        <th id=\"T_4ccb97d6_b5f8_11eb_a335_7c7a911ef3b0level0_row1\" class=\"row_heading level0 row1\" >178</th>\n",
       "                        <th id=\"T_4ccb97d6_b5f8_11eb_a335_7c7a911ef3b0level1_row1\" class=\"row_heading level1 row1\" >Oathbreaker, Last Hope of the Breaking Storm</th>\n",
       "                        <td id=\"T_4ccb97d6_b5f8_11eb_a335_7c7a911ef3b0row1_col0\" class=\"data row1 col0\" >12</td>\n",
       "                        <td id=\"T_4ccb97d6_b5f8_11eb_a335_7c7a911ef3b0row1_col1\" class=\"data row1 col1\" >$4.23</td>\n",
       "                        <td id=\"T_4ccb97d6_b5f8_11eb_a335_7c7a911ef3b0row1_col2\" class=\"data row1 col2\" >$50.76</td>\n",
       "            </tr>\n",
       "            <tr>\n",
       "                        <th id=\"T_4ccb97d6_b5f8_11eb_a335_7c7a911ef3b0level0_row2\" class=\"row_heading level0 row2\" >145</th>\n",
       "                        <th id=\"T_4ccb97d6_b5f8_11eb_a335_7c7a911ef3b0level1_row2\" class=\"row_heading level1 row2\" >Fiery Glass Crusader</th>\n",
       "                        <td id=\"T_4ccb97d6_b5f8_11eb_a335_7c7a911ef3b0row2_col0\" class=\"data row2 col0\" >9</td>\n",
       "                        <td id=\"T_4ccb97d6_b5f8_11eb_a335_7c7a911ef3b0row2_col1\" class=\"data row2 col1\" >$4.58</td>\n",
       "                        <td id=\"T_4ccb97d6_b5f8_11eb_a335_7c7a911ef3b0row2_col2\" class=\"data row2 col2\" >$41.22</td>\n",
       "            </tr>\n",
       "            <tr>\n",
       "                        <th id=\"T_4ccb97d6_b5f8_11eb_a335_7c7a911ef3b0level0_row3\" class=\"row_heading level0 row3\" >132</th>\n",
       "                        <th id=\"T_4ccb97d6_b5f8_11eb_a335_7c7a911ef3b0level1_row3\" class=\"row_heading level1 row3\" >Persuasion</th>\n",
       "                        <td id=\"T_4ccb97d6_b5f8_11eb_a335_7c7a911ef3b0row3_col0\" class=\"data row3 col0\" >9</td>\n",
       "                        <td id=\"T_4ccb97d6_b5f8_11eb_a335_7c7a911ef3b0row3_col1\" class=\"data row3 col1\" >$3.22</td>\n",
       "                        <td id=\"T_4ccb97d6_b5f8_11eb_a335_7c7a911ef3b0row3_col2\" class=\"data row3 col2\" >$28.99</td>\n",
       "            </tr>\n",
       "            <tr>\n",
       "                        <th id=\"T_4ccb97d6_b5f8_11eb_a335_7c7a911ef3b0level0_row4\" class=\"row_heading level0 row4\" >108</th>\n",
       "                        <th id=\"T_4ccb97d6_b5f8_11eb_a335_7c7a911ef3b0level1_row4\" class=\"row_heading level1 row4\" >Extraction, Quickblade Of Trembling Hands</th>\n",
       "                        <td id=\"T_4ccb97d6_b5f8_11eb_a335_7c7a911ef3b0row4_col0\" class=\"data row4 col0\" >9</td>\n",
       "                        <td id=\"T_4ccb97d6_b5f8_11eb_a335_7c7a911ef3b0row4_col1\" class=\"data row4 col1\" >$3.53</td>\n",
       "                        <td id=\"T_4ccb97d6_b5f8_11eb_a335_7c7a911ef3b0row4_col2\" class=\"data row4 col2\" >$31.77</td>\n",
       "            </tr>\n",
       "    </tbody></table>"
      ],
      "text/plain": [
       "<pandas.io.formats.style.Styler at 0xbd06a5ad00>"
      ]
     },
     "execution_count": 612,
     "metadata": {},
     "output_type": "execute_result"
    }
   ],
   "source": [
    "#define series for data frame\n",
    "double_items = pymoli_df.groupby(['Item ID', 'Item Name']) \n",
    "items_purchase = double_items['Purchase ID'].count()\n",
    "items_average = double_items['Price'].mean()\n",
    "items_total = items_purchase * items_average\n",
    "\n",
    "#Build Item ID/Item Name dataframe\n",
    "items_df = pd.DataFrame(\n",
    "        {\n",
    "            'Purchase Count' : items_purchase,\n",
    "            'Item Price' : items_average,\n",
    "            'Total Purchase Value' : items_total              \n",
    "        }\n",
    "                \n",
    ")\n",
    "#print dataframe with style format\n",
    "items_df.sort_values(by='Purchase Count', ascending=False).head().style.format({'Item Price':\"${:,.2f}\", 'Total Purchase Value':\"${:,.2f}\"})"
   ]
  },
  {
   "cell_type": "markdown",
   "metadata": {},
   "source": [
    "## Most Profitable Items"
   ]
  },
  {
   "cell_type": "markdown",
   "metadata": {},
   "source": [
    "* Sort the above table by total purchase value in descending order\n",
    "\n",
    "\n",
    "* Optional: give the displayed data cleaner formatting\n",
    "\n",
    "\n",
    "* Display a preview of the data frame\n",
    "\n"
   ]
  },
  {
   "cell_type": "code",
   "execution_count": 613,
   "metadata": {
    "scrolled": true
   },
   "outputs": [
    {
     "data": {
      "text/html": [
       "<style  type=\"text/css\" >\n",
       "</style><table id=\"T_702b3f95_b5f8_11eb_8675_7c7a911ef3b0\" ><thead>    <tr>        <th class=\"blank\" ></th>        <th class=\"blank level0\" ></th>        <th class=\"col_heading level0 col0\" >Purchase Count</th>        <th class=\"col_heading level0 col1\" >Item Price</th>        <th class=\"col_heading level0 col2\" >Total Purchase Value</th>    </tr>    <tr>        <th class=\"index_name level0\" >Item ID</th>        <th class=\"index_name level1\" >Item Name</th>        <th class=\"blank\" ></th>        <th class=\"blank\" ></th>        <th class=\"blank\" ></th>    </tr></thead><tbody>\n",
       "                <tr>\n",
       "                        <th id=\"T_702b3f95_b5f8_11eb_8675_7c7a911ef3b0level0_row0\" class=\"row_heading level0 row0\" >92</th>\n",
       "                        <th id=\"T_702b3f95_b5f8_11eb_8675_7c7a911ef3b0level1_row0\" class=\"row_heading level1 row0\" >Final Critic</th>\n",
       "                        <td id=\"T_702b3f95_b5f8_11eb_8675_7c7a911ef3b0row0_col0\" class=\"data row0 col0\" >13</td>\n",
       "                        <td id=\"T_702b3f95_b5f8_11eb_8675_7c7a911ef3b0row0_col1\" class=\"data row0 col1\" >$4.61</td>\n",
       "                        <td id=\"T_702b3f95_b5f8_11eb_8675_7c7a911ef3b0row0_col2\" class=\"data row0 col2\" >$59.99</td>\n",
       "            </tr>\n",
       "            <tr>\n",
       "                        <th id=\"T_702b3f95_b5f8_11eb_8675_7c7a911ef3b0level0_row1\" class=\"row_heading level0 row1\" >178</th>\n",
       "                        <th id=\"T_702b3f95_b5f8_11eb_8675_7c7a911ef3b0level1_row1\" class=\"row_heading level1 row1\" >Oathbreaker, Last Hope of the Breaking Storm</th>\n",
       "                        <td id=\"T_702b3f95_b5f8_11eb_8675_7c7a911ef3b0row1_col0\" class=\"data row1 col0\" >12</td>\n",
       "                        <td id=\"T_702b3f95_b5f8_11eb_8675_7c7a911ef3b0row1_col1\" class=\"data row1 col1\" >$4.23</td>\n",
       "                        <td id=\"T_702b3f95_b5f8_11eb_8675_7c7a911ef3b0row1_col2\" class=\"data row1 col2\" >$50.76</td>\n",
       "            </tr>\n",
       "            <tr>\n",
       "                        <th id=\"T_702b3f95_b5f8_11eb_8675_7c7a911ef3b0level0_row2\" class=\"row_heading level0 row2\" >82</th>\n",
       "                        <th id=\"T_702b3f95_b5f8_11eb_8675_7c7a911ef3b0level1_row2\" class=\"row_heading level1 row2\" >Nirvana</th>\n",
       "                        <td id=\"T_702b3f95_b5f8_11eb_8675_7c7a911ef3b0row2_col0\" class=\"data row2 col0\" >9</td>\n",
       "                        <td id=\"T_702b3f95_b5f8_11eb_8675_7c7a911ef3b0row2_col1\" class=\"data row2 col1\" >$4.90</td>\n",
       "                        <td id=\"T_702b3f95_b5f8_11eb_8675_7c7a911ef3b0row2_col2\" class=\"data row2 col2\" >$44.10</td>\n",
       "            </tr>\n",
       "            <tr>\n",
       "                        <th id=\"T_702b3f95_b5f8_11eb_8675_7c7a911ef3b0level0_row3\" class=\"row_heading level0 row3\" >145</th>\n",
       "                        <th id=\"T_702b3f95_b5f8_11eb_8675_7c7a911ef3b0level1_row3\" class=\"row_heading level1 row3\" >Fiery Glass Crusader</th>\n",
       "                        <td id=\"T_702b3f95_b5f8_11eb_8675_7c7a911ef3b0row3_col0\" class=\"data row3 col0\" >9</td>\n",
       "                        <td id=\"T_702b3f95_b5f8_11eb_8675_7c7a911ef3b0row3_col1\" class=\"data row3 col1\" >$4.58</td>\n",
       "                        <td id=\"T_702b3f95_b5f8_11eb_8675_7c7a911ef3b0row3_col2\" class=\"data row3 col2\" >$41.22</td>\n",
       "            </tr>\n",
       "            <tr>\n",
       "                        <th id=\"T_702b3f95_b5f8_11eb_8675_7c7a911ef3b0level0_row4\" class=\"row_heading level0 row4\" >103</th>\n",
       "                        <th id=\"T_702b3f95_b5f8_11eb_8675_7c7a911ef3b0level1_row4\" class=\"row_heading level1 row4\" >Singed Scalpel</th>\n",
       "                        <td id=\"T_702b3f95_b5f8_11eb_8675_7c7a911ef3b0row4_col0\" class=\"data row4 col0\" >8</td>\n",
       "                        <td id=\"T_702b3f95_b5f8_11eb_8675_7c7a911ef3b0row4_col1\" class=\"data row4 col1\" >$4.35</td>\n",
       "                        <td id=\"T_702b3f95_b5f8_11eb_8675_7c7a911ef3b0row4_col2\" class=\"data row4 col2\" >$34.80</td>\n",
       "            </tr>\n",
       "    </tbody></table>"
      ],
      "text/plain": [
       "<pandas.io.formats.style.Styler at 0xbd06a47580>"
      ]
     },
     "execution_count": 613,
     "metadata": {},
     "output_type": "execute_result"
    }
   ],
   "source": [
    "#sort items by purchase value in descending order with formatting\n",
    "items_df.sort_values(by='Total Purchase Value', ascending=False).head().style.format({'Item Price':\"${:,.2f}\", 'Total Purchase Value':\"${:,.2f}\"})"
   ]
  }
 ],
 "metadata": {
  "anaconda-cloud": {},
  "kernel_info": {
   "name": "python3"
  },
  "kernelspec": {
   "display_name": "Python 3",
   "language": "python",
   "name": "python3"
  },
  "language_info": {
   "codemirror_mode": {
    "name": "ipython",
    "version": 3
   },
   "file_extension": ".py",
   "mimetype": "text/x-python",
   "name": "python",
   "nbconvert_exporter": "python",
   "pygments_lexer": "ipython3",
   "version": "3.8.5"
  },
  "latex_envs": {
   "LaTeX_envs_menu_present": true,
   "autoclose": false,
   "autocomplete": true,
   "bibliofile": "biblio.bib",
   "cite_by": "apalike",
   "current_citInitial": 1,
   "eqLabelWithNumbers": true,
   "eqNumInitial": 1,
   "hotkeys": {
    "equation": "Ctrl-E",
    "itemize": "Ctrl-I"
   },
   "labels_anchors": false,
   "latex_user_defs": false,
   "report_style_numbering": false,
   "user_envs_cfg": false
  },
  "nteract": {
   "version": "0.2.0"
  }
 },
 "nbformat": 4,
 "nbformat_minor": 2
}
